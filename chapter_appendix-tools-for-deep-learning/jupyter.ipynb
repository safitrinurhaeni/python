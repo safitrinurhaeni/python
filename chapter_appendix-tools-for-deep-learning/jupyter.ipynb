{
  "cells": [
    {
      "cell_type": "code",
      "source": [],
      "metadata": {
        "id": "r98h6y6hNn4A"
      },
      "id": "r98h6y6hNn4A",
      "execution_count": null,
      "outputs": []
    },
    {
      "cell_type": "code",
      "source": [],
      "metadata": {
        "id": "XQtS4NGMNnz1"
      },
      "id": "XQtS4NGMNnz1",
      "execution_count": null,
      "outputs": []
    },
    {
      "cell_type": "code",
      "source": [],
      "metadata": {
        "id": "Yt20dKAWNnwN"
      },
      "id": "Yt20dKAWNnwN",
      "execution_count": null,
      "outputs": []
    },
    {
      "cell_type": "code",
      "source": [],
      "metadata": {
        "id": "AiHRtVNBNnr9"
      },
      "id": "AiHRtVNBNnr9",
      "execution_count": null,
      "outputs": []
    },
    {
      "cell_type": "code",
      "source": [],
      "metadata": {
        "id": "4NWm1DRuNnoH"
      },
      "id": "4NWm1DRuNnoH",
      "execution_count": null,
      "outputs": []
    },
    {
      "cell_type": "code",
      "source": [],
      "metadata": {
        "id": "oW-2sJg9NnkM"
      },
      "id": "oW-2sJg9NnkM",
      "execution_count": null,
      "outputs": []
    },
    {
      "cell_type": "code",
      "source": [],
      "metadata": {
        "id": "0a48ieygNngX"
      },
      "id": "0a48ieygNngX",
      "execution_count": null,
      "outputs": []
    },
    {
      "cell_type": "code",
      "source": [],
      "metadata": {
        "id": "OKPkCep8Nnc3"
      },
      "id": "OKPkCep8Nnc3",
      "execution_count": null,
      "outputs": []
    },
    {
      "cell_type": "code",
      "source": [],
      "metadata": {
        "id": "Pq-FrsmeNnZQ"
      },
      "id": "Pq-FrsmeNnZQ",
      "execution_count": null,
      "outputs": []
    },
    {
      "cell_type": "code",
      "source": [],
      "metadata": {
        "id": "MUgbaQm2NnVW"
      },
      "id": "MUgbaQm2NnVW",
      "execution_count": null,
      "outputs": []
    },
    {
      "cell_type": "code",
      "source": [],
      "metadata": {
        "id": "HlxaKwamNnRu"
      },
      "id": "HlxaKwamNnRu",
      "execution_count": null,
      "outputs": []
    },
    {
      "cell_type": "code",
      "source": [],
      "metadata": {
        "id": "6BF4yGluNnN9"
      },
      "id": "6BF4yGluNnN9",
      "execution_count": null,
      "outputs": []
    },
    {
      "cell_type": "code",
      "source": [],
      "metadata": {
        "id": "sVvSzN83NnKM"
      },
      "id": "sVvSzN83NnKM",
      "execution_count": null,
      "outputs": []
    },
    {
      "cell_type": "code",
      "source": [],
      "metadata": {
        "id": "nR1aFZMlNnAn"
      },
      "id": "nR1aFZMlNnAn",
      "execution_count": null,
      "outputs": []
    },
    {
      "cell_type": "code",
      "source": [],
      "metadata": {
        "id": "9dIHxPkoNGmY"
      },
      "id": "9dIHxPkoNGmY",
      "execution_count": null,
      "outputs": []
    }
  ],
  "metadata": {
    "kernelspec": {
      "display_name": "Python 3",
      "name": "python3"
    },
    "language_info": {
      "name": "python"
    },
    "required_libs": [],
    "colab": {
      "provenance": []
    }
  },
  "nbformat": 4,
  "nbformat_minor": 5
}